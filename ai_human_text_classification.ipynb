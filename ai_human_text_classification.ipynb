{
 "cells": [
  {
   "cell_type": "code",
   "execution_count": 72,
   "id": "ad14d4c8-540e-4ee8-9e61-2eb6d70f63a7",
   "metadata": {},
   "outputs": [],
   "source": [
    "import pandas as pd\n",
    "import numpy as np\n",
    "import re\n",
    "import matplotlib.pyplot as plt\n",
    "import seaborn as sns\n",
    "from sklearn.model_selection import train_test_split\n",
    "from sklearn.feature_extraction.text import TfidfVectorizer\n",
    "from sklearn.ensemble import RandomForestClassifier\n",
    "from sklearn.svm import LinearSVC\n",
    "from sklearn.linear_model import LogisticRegression\n",
    "from sklearn.metrics import classification_report, confusion_matrix, accuracy_score, f1_score\n",
    "import gensim"
   ]
  },
  {
   "cell_type": "markdown",
   "id": "d1537584-603d-4337-b6be-5281f75deda4",
   "metadata": {},
   "source": [
    "# Introduction"
   ]
  },
  {
   "cell_type": "markdown",
   "id": "325a6742-bf3e-4de5-aa73-78005b06be12",
   "metadata": {},
   "source": [
    "### Human or AI?"
   ]
  },
  {
   "cell_type": "markdown",
   "id": "305a064e-280d-4db8-9853-19bc9a339d6f",
   "metadata": {},
   "source": [
    "Can texts be classified based on if they were written by a human or AI?  \n",
    "This modeling exploration goes about determining just that.   \n",
    "In the following notebook, there will be comparisons with two different feature extraction techniques, TF-IDF (Term Frequency-Inverse Document Frequency) and Word2Vec. TF-IDF is frequency based and won't capture context as well as Word2Vec, but has a much faster training time and has a higher interpretability.\n",
    "Along with that, three different models will be explored: Logistic Regression (simplest, most interpretable), Random Forest Classifier, and SVCLinear (a linear SVM implementation)."
   ]
  },
  {
   "cell_type": "code",
   "execution_count": 3,
   "id": "4022596f-4d68-4339-971e-8842d45ac2af",
   "metadata": {},
   "outputs": [
    {
     "data": {
      "text/html": [
       "<div>\n",
       "<style scoped>\n",
       "    .dataframe tbody tr th:only-of-type {\n",
       "        vertical-align: middle;\n",
       "    }\n",
       "\n",
       "    .dataframe tbody tr th {\n",
       "        vertical-align: top;\n",
       "    }\n",
       "\n",
       "    .dataframe thead th {\n",
       "        text-align: right;\n",
       "    }\n",
       "</style>\n",
       "<table border=\"1\" class=\"dataframe\">\n",
       "  <thead>\n",
       "    <tr style=\"text-align: right;\">\n",
       "      <th></th>\n",
       "      <th>text</th>\n",
       "      <th>generated</th>\n",
       "    </tr>\n",
       "  </thead>\n",
       "  <tbody>\n",
       "    <tr>\n",
       "      <th>0</th>\n",
       "      <td>Cars. Cars have been around since they became ...</td>\n",
       "      <td>0.0</td>\n",
       "    </tr>\n",
       "    <tr>\n",
       "      <th>1</th>\n",
       "      <td>Transportation is a large necessity in most co...</td>\n",
       "      <td>0.0</td>\n",
       "    </tr>\n",
       "    <tr>\n",
       "      <th>2</th>\n",
       "      <td>\"America's love affair with it's vehicles seem...</td>\n",
       "      <td>0.0</td>\n",
       "    </tr>\n",
       "    <tr>\n",
       "      <th>3</th>\n",
       "      <td>How often do you ride in a car? Do you drive a...</td>\n",
       "      <td>0.0</td>\n",
       "    </tr>\n",
       "    <tr>\n",
       "      <th>4</th>\n",
       "      <td>Cars are a wonderful thing. They are perhaps o...</td>\n",
       "      <td>0.0</td>\n",
       "    </tr>\n",
       "  </tbody>\n",
       "</table>\n",
       "</div>"
      ],
      "text/plain": [
       "                                                text  generated\n",
       "0  Cars. Cars have been around since they became ...        0.0\n",
       "1  Transportation is a large necessity in most co...        0.0\n",
       "2  \"America's love affair with it's vehicles seem...        0.0\n",
       "3  How often do you ride in a car? Do you drive a...        0.0\n",
       "4  Cars are a wonderful thing. They are perhaps o...        0.0"
      ]
     },
     "execution_count": 3,
     "metadata": {},
     "output_type": "execute_result"
    }
   ],
   "source": [
    "# load dataset (obtained from kaggle)\n",
    "ai_human = pd.read_csv(\"AI_Human.csv\")\n",
    "ai_human.head()"
   ]
  },
  {
   "cell_type": "markdown",
   "id": "2a49cd79-fd8d-4001-98ca-e22db867734e",
   "metadata": {},
   "source": [
    "# Exploratory Data Analysis"
   ]
  },
  {
   "cell_type": "code",
   "execution_count": 5,
   "id": "7213a272-da6f-406a-93ad-e2747b789202",
   "metadata": {},
   "outputs": [
    {
     "name": "stdout",
     "output_type": "stream",
     "text": [
      "Missing data: \n",
      "text         0\n",
      "generated    0\n",
      "dtype: int64\n"
     ]
    }
   ],
   "source": [
    "print(f'Missing data: \\n{ai_human.isnull().sum()}')"
   ]
  },
  {
   "cell_type": "code",
   "execution_count": 6,
   "id": "feeb603d-3f81-4be3-9bb7-ea9110b65362",
   "metadata": {},
   "outputs": [
    {
     "data": {
      "text/plain": [
       "generated\n",
       "0.0    305797\n",
       "1.0    181438\n",
       "Name: count, dtype: int64"
      ]
     },
     "execution_count": 6,
     "metadata": {},
     "output_type": "execute_result"
    }
   ],
   "source": [
    "ai_human['generated'].value_counts()"
   ]
  },
  {
   "cell_type": "markdown",
   "id": "16028eb6-1f3f-4202-9230-6d5ca4397dff",
   "metadata": {},
   "source": [
    "There is a moderate class imbalance, which will be something to keep in mind as the modeling continues. This will be particularly important when evaluating the models: precision, recall, and F1 scores will be of interest."
   ]
  },
  {
   "cell_type": "markdown",
   "id": "f54cc34c-4301-49e9-bd97-20389aad4d44",
   "metadata": {},
   "source": [
    "# Text Preprocessing"
   ]
  },
  {
   "cell_type": "markdown",
   "id": "5ab9b867-87f7-4bb8-9f92-f631623216c0",
   "metadata": {},
   "source": [
    "Clean the text to ensure there is consistency throughout (no noise and consistent formatting)"
   ]
  },
  {
   "cell_type": "code",
   "execution_count": 8,
   "id": "98e42f50-ad8b-4dc6-af8e-8a02634a0811",
   "metadata": {},
   "outputs": [],
   "source": [
    "def clean_text(text):\n",
    "    # take away leading and trailing whitespaces\n",
    "    clean = text.strip()\n",
    "    # regex: look behind - \n",
    "    # add a period where there is a newline (unless there is already a period there)\n",
    "    clean = re.sub(r'(?<!\\.)\\n+', '. ', clean)\n",
    "    # take away all extra spaces before periods\n",
    "    clean = re.sub(r'\\s+([.])', r'\\1', clean)\n",
    "    # replace all multiple spaces with a single space\n",
    "    clean = re.sub(r'\\s+', ' ', clean)\n",
    "    # remove multiple periods with 1 period\n",
    "    clean = re.sub(r'\\.{2,}', '.', clean)\n",
    "    # if the string doesn't end with with a period...\n",
    "    if not clean.endswith('.'):\n",
    "        # append a period to the end\n",
    "        clean += '.'\n",
    "    return clean\n",
    "\n",
    "ai_human['cleaned_text'] = ai_human['text'].apply(clean_text)"
   ]
  },
  {
   "cell_type": "code",
   "execution_count": 9,
   "id": "0cc6b7a4-db2f-46a7-8caa-2348c4b03404",
   "metadata": {},
   "outputs": [
    {
     "data": {
      "text/html": [
       "<div>\n",
       "<style scoped>\n",
       "    .dataframe tbody tr th:only-of-type {\n",
       "        vertical-align: middle;\n",
       "    }\n",
       "\n",
       "    .dataframe tbody tr th {\n",
       "        vertical-align: top;\n",
       "    }\n",
       "\n",
       "    .dataframe thead th {\n",
       "        text-align: right;\n",
       "    }\n",
       "</style>\n",
       "<table border=\"1\" class=\"dataframe\">\n",
       "  <thead>\n",
       "    <tr style=\"text-align: right;\">\n",
       "      <th></th>\n",
       "      <th>text</th>\n",
       "      <th>generated</th>\n",
       "      <th>cleaned_text</th>\n",
       "    </tr>\n",
       "  </thead>\n",
       "  <tbody>\n",
       "    <tr>\n",
       "      <th>0</th>\n",
       "      <td>Cars. Cars have been around since they became ...</td>\n",
       "      <td>0.0</td>\n",
       "      <td>Cars. Cars have been around since they became ...</td>\n",
       "    </tr>\n",
       "    <tr>\n",
       "      <th>1</th>\n",
       "      <td>Transportation is a large necessity in most co...</td>\n",
       "      <td>0.0</td>\n",
       "      <td>Transportation is a large necessity in most co...</td>\n",
       "    </tr>\n",
       "    <tr>\n",
       "      <th>2</th>\n",
       "      <td>\"America's love affair with it's vehicles seem...</td>\n",
       "      <td>0.0</td>\n",
       "      <td>\"America's love affair with it's vehicles seem...</td>\n",
       "    </tr>\n",
       "    <tr>\n",
       "      <th>3</th>\n",
       "      <td>How often do you ride in a car? Do you drive a...</td>\n",
       "      <td>0.0</td>\n",
       "      <td>How often do you ride in a car? Do you drive a...</td>\n",
       "    </tr>\n",
       "    <tr>\n",
       "      <th>4</th>\n",
       "      <td>Cars are a wonderful thing. They are perhaps o...</td>\n",
       "      <td>0.0</td>\n",
       "      <td>Cars are a wonderful thing. They are perhaps o...</td>\n",
       "    </tr>\n",
       "  </tbody>\n",
       "</table>\n",
       "</div>"
      ],
      "text/plain": [
       "                                                text  generated  \\\n",
       "0  Cars. Cars have been around since they became ...        0.0   \n",
       "1  Transportation is a large necessity in most co...        0.0   \n",
       "2  \"America's love affair with it's vehicles seem...        0.0   \n",
       "3  How often do you ride in a car? Do you drive a...        0.0   \n",
       "4  Cars are a wonderful thing. They are perhaps o...        0.0   \n",
       "\n",
       "                                        cleaned_text  \n",
       "0  Cars. Cars have been around since they became ...  \n",
       "1  Transportation is a large necessity in most co...  \n",
       "2  \"America's love affair with it's vehicles seem...  \n",
       "3  How often do you ride in a car? Do you drive a...  \n",
       "4  Cars are a wonderful thing. They are perhaps o...  "
      ]
     },
     "execution_count": 9,
     "metadata": {},
     "output_type": "execute_result"
    }
   ],
   "source": [
    "ai_human.head()"
   ]
  },
  {
   "cell_type": "markdown",
   "id": "8eb0ad6c-5c35-4128-8a91-3b3072884772",
   "metadata": {},
   "source": [
    "# Feature Extraction"
   ]
  },
  {
   "cell_type": "markdown",
   "id": "4b8845a8-fb18-4b93-a053-529c1ce0916e",
   "metadata": {},
   "source": [
    "This is done to represent the input data numerically."
   ]
  },
  {
   "cell_type": "markdown",
   "id": "b4b3bd87-0ed0-4f6d-bde0-6abe86a172cb",
   "metadata": {},
   "source": [
    "### TF-IDF"
   ]
  },
  {
   "cell_type": "code",
   "execution_count": 12,
   "id": "f4957798-3812-456a-afea-ad290ca735d2",
   "metadata": {},
   "outputs": [],
   "source": [
    "tfidf = TfidfVectorizer(max_features=5000)\n",
    "X_tfidf = tfidf.fit_transform(ai_human['cleaned_text'])"
   ]
  },
  {
   "cell_type": "markdown",
   "id": "654e6aea-ab3c-404b-8d62-f38602fd845c",
   "metadata": {},
   "source": [
    "### Word2Vec"
   ]
  },
  {
   "cell_type": "code",
   "execution_count": 14,
   "id": "f65aed6b-3100-4c23-88c0-c7e1fe4c7da2",
   "metadata": {},
   "outputs": [],
   "source": [
    "sentences = ai_human['cleaned_text'].apply(str.split).tolist()\n",
    "# Train a Word2Vec model\n",
    "# vector_size=100 is embedding size\n",
    "# window=5 is context window,\n",
    "# min_count=1 includes all words that appear at least once, \n",
    "# workers=4 is for parallel training\n",
    "# see here: https://radimrehurek.com/gensim/models/word2vec.html\n",
    "model_w2v = gensim.models.Word2Vec(sentences, vector_size=100, window=5, min_count=1, workers=4)\n",
    "\n",
    "# will use this function to split data later\n",
    "def avg_word2vec(text):\n",
    "    words = text.split()\n",
    "    # get vectors for words that exist in Word2Vec vocabulary\n",
    "    vectors = [model_w2v.wv[word] for word in words if word in model_w2v.wv]\n",
    "    # return the average vector or 0 if none exist\n",
    "    return np.mean(vectors, axis=0) if vectors else np.zeros(model_w2v.vector_size)"
   ]
  },
  {
   "cell_type": "markdown",
   "id": "a6e824f5-6885-4b28-94d5-d7e033cda05a",
   "metadata": {},
   "source": [
    "# Models"
   ]
  },
  {
   "cell_type": "markdown",
   "id": "80158e9c-4119-46f5-81fb-39966aabe12f",
   "metadata": {},
   "source": [
    "### Split the dataset"
   ]
  },
  {
   "cell_type": "markdown",
   "id": "cd4a5fe8-24f2-467e-b607-3be250da6e05",
   "metadata": {},
   "source": [
    "For TF-IDF and Word2Vec, split the datasets into training and testing sets for model training and evaluation."
   ]
  },
  {
   "cell_type": "markdown",
   "id": "cda185cc-b0a0-44fa-a432-8d1f3dd9ad6a",
   "metadata": {},
   "source": [
    "#### TF-IDF"
   ]
  },
  {
   "cell_type": "code",
   "execution_count": 18,
   "id": "42b955bc-f6f8-4f7e-9bbe-bf846386c916",
   "metadata": {},
   "outputs": [],
   "source": [
    "y_tfidf = ai_human['generated']\n",
    "\n",
    "X_train_tfidf, X_test_tfidf, y_train_tfidf, y_test_tfidf = train_test_split(X_tfidf, y_tfidf, test_size=0.2, random_state=42)"
   ]
  },
  {
   "cell_type": "markdown",
   "id": "4f6f5982-bf64-42d3-a4ca-10e414d85900",
   "metadata": {},
   "source": [
    "#### Word2Vec"
   ]
  },
  {
   "cell_type": "code",
   "execution_count": 20,
   "id": "18e00b35-5907-403b-92eb-eb8d64efcd02",
   "metadata": {},
   "outputs": [],
   "source": [
    "# stack the word2vec vectors into an array\n",
    "X_w2v = np.vstack(ai_human['cleaned_text'].apply(avg_word2vec).values)\n",
    "y_w2v = ai_human['generated']\n",
    "\n",
    "X_train_w2v, X_test_w2v, y_train_w2v, y_test_w2v = train_test_split(X_w2v, y_w2v, test_size=0.2, random_state=42)"
   ]
  },
  {
   "cell_type": "markdown",
   "id": "15d29cd2-bfde-433c-a700-14d13fdc494c",
   "metadata": {},
   "source": [
    "### Training and Predicting"
   ]
  },
  {
   "cell_type": "markdown",
   "id": "5d703775-ec2e-4cd3-ab2a-e21f2f2a2018",
   "metadata": {},
   "source": [
    "### Logistic Regression"
   ]
  },
  {
   "cell_type": "code",
   "execution_count": 22,
   "id": "7608a12f-ebff-42f5-b627-e577cb44c550",
   "metadata": {},
   "outputs": [],
   "source": [
    "# TF-IDF\n",
    "tfidf_lr = LogisticRegression()\n",
    "tfidf_lr.fit(X_train_tfidf, y_train_tfidf)\n",
    "y_pred_tfidf_lr = tfidf_lr.predict(X_test_tfidf)\n",
    "\n",
    "# Word2Vec\n",
    "w2v_lr = LogisticRegression()\n",
    "w2v_lr.fit(X_train_w2v, y_train_w2v)\n",
    "y_pred_w2v_lr = w2v_lr.predict(X_test_w2v)"
   ]
  },
  {
   "cell_type": "markdown",
   "id": "fd49d03c-4433-4a07-980d-d20b3244c939",
   "metadata": {},
   "source": [
    "### Random Forest"
   ]
  },
  {
   "cell_type": "markdown",
   "id": "c9939b3c-883e-49e6-96d6-7a397267a8d3",
   "metadata": {},
   "source": [
    "Parameters are specified here for runtime purposes"
   ]
  },
  {
   "cell_type": "code",
   "execution_count": 24,
   "id": "3a4e8d82-2ed1-4037-8b2a-55518c2fc859",
   "metadata": {},
   "outputs": [],
   "source": [
    "# TF-IDF\n",
    "tfidf_rf = RandomForestClassifier(\n",
    "    n_estimators=50,        # default = 100\n",
    "    max_depth=20,           # limit tree depth\n",
    "    n_jobs=-1,              # use all CPU cores\n",
    "    random_state=42         \n",
    ")\n",
    "tfidf_rf.fit(X_train_tfidf, y_train_tfidf)\n",
    "y_pred_tfidf_rf = tfidf_rf.predict(X_test_tfidf)\n",
    "\n",
    "# Word2Vec\n",
    "w2v_rf = RandomForestClassifier(\n",
    "    n_estimators=50,        # default = 100\n",
    "    max_depth=20,           # limit tree depth\n",
    "    n_jobs=-1,              # use all CPU cores\n",
    "    random_state=42         \n",
    ")\n",
    "w2v_rf.fit(X_train_w2v, y_train_w2v)\n",
    "y_pred_w2v_rf = w2v_rf.predict(X_test_w2v)"
   ]
  },
  {
   "cell_type": "markdown",
   "id": "25e82669-7982-404b-b9b9-4ff7d5d5302e",
   "metadata": {},
   "source": [
    "### SVM"
   ]
  },
  {
   "cell_type": "markdown",
   "id": "90047d19-6ca2-4f8b-95dc-38952e5af6e5",
   "metadata": {},
   "source": [
    "Parameter specified here for runtime purposes"
   ]
  },
  {
   "cell_type": "code",
   "execution_count": 26,
   "id": "860bccc1-2dee-4ce6-a9fb-279587494539",
   "metadata": {},
   "outputs": [],
   "source": [
    "# TF-IDF\n",
    "tfidf_svm = LinearSVC(dual=False)\n",
    "tfidf_svm.fit(X_train_tfidf, y_train_tfidf)\n",
    "y_pred_tfidf_svm = tfidf_svm.predict(X_test_tfidf)\n",
    "\n",
    "# Word2Vec\n",
    "w2v_svm = LinearSVC(dual=False)\n",
    "w2v_svm.fit(X_train_w2v, y_train_w2v)\n",
    "y_pred_w2v_svm = w2v_svm.predict(X_test_w2v)"
   ]
  },
  {
   "cell_type": "markdown",
   "id": "502ec621-a08a-4521-b5c0-fe50c771f693",
   "metadata": {},
   "source": [
    "# Evaluation"
   ]
  },
  {
   "cell_type": "markdown",
   "id": "74a995eb-88b5-4b97-9fd9-2599a53c6b29",
   "metadata": {},
   "source": [
    "#### TF-IDF"
   ]
  },
  {
   "cell_type": "code",
   "execution_count": 31,
   "id": "d089e5a8-9d89-487d-85d0-2237857d97f7",
   "metadata": {},
   "outputs": [
    {
     "name": "stdout",
     "output_type": "stream",
     "text": [
      "Logistic Regression Accuracy: 0.9933604933964103\n",
      "Random Forest Accuracy: 0.9848840908391228\n",
      "SVM Accuracy: 0.9976500046178949\n",
      "Classification Report (Logistic Regression):\n",
      "              precision    recall  f1-score   support\n",
      "\n",
      "         0.0       0.99      1.00      0.99     61112\n",
      "         1.0       1.00      0.99      0.99     36335\n",
      "\n",
      "    accuracy                           0.99     97447\n",
      "   macro avg       0.99      0.99      0.99     97447\n",
      "weighted avg       0.99      0.99      0.99     97447\n",
      "\n",
      "Confusion Matrix (Random Forest):\n"
     ]
    },
    {
     "data": {
      "image/png": "[encoded data removed]",
      "text/plain": [
       "<Figure size 640x480 with 2 Axes>"
      ]
     },
     "metadata": {},
     "output_type": "display_data"
    }
   ],
   "source": [
    "print(f\"Logistic Regression Accuracy: {accuracy_score(y_test_tfidf, y_pred_tfidf_lr)}\")\n",
    "print(f\"Random Forest Accuracy: {accuracy_score(y_test_tfidf, y_pred_tfidf_rf)}\")\n",
    "print(f\"SVM Accuracy: {accuracy_score(y_test_tfidf, y_pred_tfidf_svm)}\")\n",
    "\n",
    "print(\"Classification Report (Logistic Regression):\")\n",
    "print(classification_report(y_test_tfidf, y_pred_tfidf_lr))\n",
    "\n",
    "print(\"Confusion Matrix (Random Forest):\")\n",
    "sns.heatmap(confusion_matrix(y_test_tfidf, y_pred_tfidf_rf), annot=True, fmt=\"d\")\n",
    "plt.show()"
   ]
  },
  {
   "cell_type": "markdown",
   "id": "5b64e756-d1c5-4e31-9b02-7d36344cc74a",
   "metadata": {},
   "source": [
    "#### Word2Vec"
   ]
  },
  {
   "cell_type": "code",
   "execution_count": 38,
   "id": "bfaa6357-e027-4986-b9c3-bd208d9d10fe",
   "metadata": {},
   "outputs": [
    {
     "name": "stdout",
     "output_type": "stream",
     "text": [
      "Logistic Regression Accuracy: 0.9800917421777993\n",
      "Random Forest Accuracy: 0.9888041704721541\n",
      "SVM Accuracy: 0.9802969819491621\n",
      "Classification Report (Logistic Regression):\n",
      "              precision    recall  f1-score   support\n",
      "\n",
      "         0.0       0.98      0.99      0.98     61112\n",
      "         1.0       0.98      0.97      0.97     36335\n",
      "\n",
      "    accuracy                           0.98     97447\n",
      "   macro avg       0.98      0.98      0.98     97447\n",
      "weighted avg       0.98      0.98      0.98     97447\n",
      "\n",
      "Confusion Matrix (Random Forest):\n"
     ]
    },
    {
     "data": {
      "image/png": "[encoded data removed]",
      "text/plain": [
       "<Figure size 640x480 with 2 Axes>"
      ]
     },
     "metadata": {},
     "output_type": "display_data"
    }
   ],
   "source": [
    "print(f\"Logistic Regression Accuracy: {accuracy_score(y_test_w2v, y_pred_w2v_lr)}\")\n",
    "print(f\"Random Forest Accuracy: {accuracy_score(y_test_w2v, y_pred_w2v_rf)}\")\n",
    "print(f\"SVM Accuracy: {accuracy_score(y_test_w2v, y_pred_w2v_svm)}\")\n",
    "\n",
    "print(\"Classification Report (Logistic Regression):\")\n",
    "print(classification_report(y_test_w2v, y_pred_w2v_lr))\n",
    "\n",
    "print(\"Confusion Matrix (Random Forest):\")\n",
    "sns.heatmap(confusion_matrix(y_test_w2v, y_pred_w2v_rf), annot=True, fmt=\"d\")\n",
    "plt.show()"
   ]
  },
  {
   "cell_type": "markdown",
   "id": "1e83fdd5-6ff4-4835-b744-0b52df7bcb8b",
   "metadata": {},
   "source": [
    "# Model Comparison"
   ]
  },
  {
   "cell_type": "markdown",
   "id": "fb18a060-cc86-4afe-8cc5-7ff1753317aa",
   "metadata": {},
   "source": [
    "#### TF-IDF"
   ]
  },
  {
   "cell_type": "code",
   "execution_count": 40,
   "id": "958be56e-a73b-4ac4-ab08-3745b8bc8a09",
   "metadata": {},
   "outputs": [
    {
     "data": {
      "image/png": "[encoded data removed]",
      "text/plain": [
       "<Figure size 640x480 with 1 Axes>"
      ]
     },
     "metadata": {},
     "output_type": "display_data"
    }
   ],
   "source": [
    "models = ['Logistic Regression', 'Random Forest', 'SVM']\n",
    "accuracies = [accuracy_score(y_test_tfidf, y_pred_tfidf_lr), \n",
    "              accuracy_score(y_test_tfidf, y_pred_tfidf_rf), \n",
    "              accuracy_score(y_test_tfidf, y_pred_tfidf_svm)]\n",
    "\n",
    "plt.bar(models, accuracies)\n",
    "plt.title('Model Performance Comparison')\n",
    "plt.ylabel('Accuracy')\n",
    "plt.show()"
   ]
  },
  {
   "cell_type": "markdown",
   "id": "9428ca7b-7eb6-4cb5-bb5a-9b1ad674bcc6",
   "metadata": {},
   "source": [
    "#### Word2Vec"
   ]
  },
  {
   "cell_type": "code",
   "execution_count": 46,
   "id": "6ee4f1e2-b3e8-483a-ac57-c6e07d2e8e16",
   "metadata": {},
   "outputs": [
    {
     "data": {
      "image/png": "[encoded data removed]",
      "text/plain": [
       "<Figure size 640x480 with 1 Axes>"
      ]
     },
     "metadata": {},
     "output_type": "display_data"
    }
   ],
   "source": [
    "models = ['Logistic Regression', 'Random Forest', 'SVM']\n",
    "accuracies = [accuracy_score(y_test_w2v, y_pred_w2v_lr), \n",
    "              accuracy_score(y_test_w2v, y_pred_w2v_rf), \n",
    "              accuracy_score(y_test_w2v, y_pred_w2v_svm)]\n",
    "\n",
    "plt.bar(models, accuracies)\n",
    "plt.title('Model Performance Comparison')\n",
    "plt.ylabel('Accuracy')\n",
    "plt.show()"
   ]
  },
  {
   "cell_type": "markdown",
   "id": "170f48b1-a5ea-40ee-9603-701806406822",
   "metadata": {},
   "source": [
    "#### Important Features"
   ]
  },
  {
   "cell_type": "code",
   "execution_count": 92,
   "id": "3646bf7d-5ddc-4c0a-9617-57dcd855e675",
   "metadata": {},
   "outputs": [],
   "source": [
    "feature_names = tfidf.get_feature_names_out()"
   ]
  },
  {
   "cell_type": "markdown",
   "id": "212f470b-aba5-4ade-99bd-a3b2f436e531",
   "metadata": {},
   "source": [
    "##### Random Forest"
   ]
  },
  {
   "cell_type": "code",
   "execution_count": 52,
   "id": "f8596849-62cd-4909-b9f9-76344305506f",
   "metadata": {},
   "outputs": [
    {
     "name": "stdout",
     "output_type": "stream",
     "text": [
      "because         0.046316\n",
      "additionally    0.021666\n",
      "conclusion      0.019593\n",
      "would           0.018523\n",
      "you             0.016539\n",
      "get             0.015026\n",
      "the             0.014977\n",
      "go              0.014192\n",
      "what            0.013869\n",
      "just            0.013706\n",
      "dtype: float64\n"
     ]
    }
   ],
   "source": [
    "importances = tfidf_rf.feature_importances_\n",
    "# sort in descending order, select the top 10\n",
    "top_indices = importances.argsort()[-10:][::-1]\n",
    "# map indices to feature names\n",
    "top_features = pd.Series(importances[top_indices], index=[feature_names[i] for i in top_indices])\n",
    "print(top_features)"
   ]
  },
  {
   "cell_type": "markdown",
   "id": "b71175d4-d841-4987-87d8-ec6f57143495",
   "metadata": {},
   "source": [
    "##### Logistic Regression"
   ]
  },
  {
   "cell_type": "code",
   "execution_count": 94,
   "id": "6f7ceab5-a38b-4518-a36e-385620488b7d",
   "metadata": {},
   "outputs": [
    {
     "name": "stdout",
     "output_type": "stream",
     "text": [
      "           Feature  Coefficient  Abs_Coefficient\n",
      "534        because   -22.466931        22.466931\n",
      "2329     important    13.006877        13.006877\n",
      "160   additionally    11.412439        11.412439\n",
      "4745          very   -11.345504        11.345504\n",
      "3402     potential    10.795497        10.795497\n",
      "1003    conclusion    10.755535        10.755535\n",
      "1636         essay    10.351723        10.351723\n",
      "263       although    -9.539250         9.539250\n",
      "2265       however     9.522677         9.522677\n",
      "3269       percent    -9.021920         9.021920\n"
     ]
    }
   ],
   "source": [
    "coefficients = tfidf_lr.coef_[0]\n",
    "# dataframe with feature names and their corresponding coefficients\n",
    "feature_importance = pd.DataFrame({\n",
    "    'Feature': feature_names,\n",
    "    'Coefficient': coefficients\n",
    "})\n",
    "# sort by the absolute value for more important features\n",
    "feature_importance['Abs_Coefficient'] = feature_importance['Coefficient'].abs()\n",
    "feature_importance = feature_importance.sort_values(by='Abs_Coefficient', ascending=False)\n",
    "print(feature_importance.head(10))"
   ]
  },
  {
   "cell_type": "markdown",
   "id": "335e17ef-fa77-4c44-9dd5-9e56e82852c2",
   "metadata": {},
   "source": [
    "Positive coefficients = AI\n",
    "Negative coefficients = Human"
   ]
  },
  {
   "cell_type": "markdown",
   "id": "1cdeb10f-b676-46ce-a61b-dcc7c1faf8da",
   "metadata": {},
   "source": [
    "# Conclusion"
   ]
  },
  {
   "cell_type": "markdown",
   "id": "0c86060f-f4e9-4965-b255-a22a187f25e6",
   "metadata": {},
   "source": [
    "All of the tested models were highly efficient with both TF-IDF and Word2Vec in determining if the text presented was written by a human or AI. Precision, recall, and accuracy were very high for all models, which means the class imbalance seen in the exploratory data analysis did not significantly impact the models.  \n",
    "  \n",
    "Thus, selecting the most interpretible and simple model is the best choice: Logistic Regression using TF-IDF.  \n",
    "  \n",
    "To illustrate the interpretability, we can see the top 10 most influencial words for the Logistic Regression model decision making (see above). This shows that the model used words such as \"because\", \"very\", \"although\", and \"percent\" to determine human writing and words such as \"important\", \"additionally\", \"potential\", and \"conclusion\" to determine AI writing."
   ]
  }
 ],
 "metadata": {
  "kernelspec": {
   "display_name": "Python 3 (ipykernel)",
   "language": "python",
   "name": "python3"
  },
  "language_info": {
   "codemirror_mode": {
    "name": "ipython",
    "version": 3
   },
   "file_extension": ".py",
   "mimetype": "text/x-python",
   "name": "python",
   "nbconvert_exporter": "python",
   "pygments_lexer": "ipython3",
   "version": "3.12.7"
  }
 },
 "nbformat": 4,
 "nbformat_minor": 5
}
